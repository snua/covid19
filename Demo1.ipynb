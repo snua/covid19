{
  "nbformat": 4,
  "nbformat_minor": 0,
  "metadata": {
    "colab": {
      "name": "Demo1",
      "provenance": []
    },
    "kernelspec": {
      "name": "python3",
      "display_name": "Python 3"
    }
  },
  "cells": [
    {
      "cell_type": "markdown",
      "metadata": {
        "id": "04Q-IEcrtEsc",
        "colab_type": "text"
      },
      "source": [
        "# Introduction to AI Tools in Python\n",
        "\n",
        "We will try to \"model\" a projectile motion using the basic tools found in Python.\n",
        "\n",
        "\n",
        "<div>\n",
        "<img src=\"https://raw.githubusercontent.com/snua/covid19/master/simple_model_in_python.png\" width=\"400\"/>\n",
        "</div>\n",
        "\n",
        "\n"
      ]
    },
    {
      "cell_type": "markdown",
      "metadata": {
        "id": "_RfYxiZXv-Vy",
        "colab_type": "text"
      },
      "source": [
        "## Import Libraries"
      ]
    },
    {
      "cell_type": "code",
      "metadata": {
        "id": "2WDfST6jvbwj",
        "colab_type": "code",
        "colab": {}
      },
      "source": [
        "import numpy as np\n",
        "import matplotlib.pyplot as plt"
      ],
      "execution_count": 0,
      "outputs": []
    },
    {
      "cell_type": "markdown",
      "metadata": {
        "id": "Pf5PZE-7v3OA",
        "colab_type": "text"
      },
      "source": [
        "## Define Physical Parameters"
      ]
    },
    {
      "cell_type": "code",
      "metadata": {
        "id": "4h9u2q-MoJXR",
        "colab_type": "code",
        "colab": {}
      },
      "source": [
        "V = 100 #m/s\n",
        "g = 9.81 #m/s2\n",
        "alpha = np.pi/4 #45 degree"
      ],
      "execution_count": 0,
      "outputs": []
    },
    {
      "cell_type": "markdown",
      "metadata": {
        "id": "EC-MCxaCvvsS",
        "colab_type": "text"
      },
      "source": [
        "## Define Our Model"
      ]
    },
    {
      "cell_type": "code",
      "metadata": {
        "id": "7GVCX3ScwF4Y",
        "colab_type": "code",
        "colab": {}
      },
      "source": [
        "t = np.linspace(0,15,20)"
      ],
      "execution_count": 0,
      "outputs": []
    },
    {
      "cell_type": "code",
      "metadata": {
        "id": "6jhoeC6goRgR",
        "colab_type": "code",
        "colab": {}
      },
      "source": [
        "x = V*t*np.cos(alpha)"
      ],
      "execution_count": 0,
      "outputs": []
    },
    {
      "cell_type": "code",
      "metadata": {
        "id": "AY96X6jqoiUB",
        "colab_type": "code",
        "colab": {}
      },
      "source": [
        "y = V*t*np.sin(alpha)-0.5*g*t**2"
      ],
      "execution_count": 0,
      "outputs": []
    },
    {
      "cell_type": "markdown",
      "metadata": {
        "id": "bZSWkJzavqGz",
        "colab_type": "text"
      },
      "source": [
        "## Visualise Results"
      ]
    },
    {
      "cell_type": "code",
      "metadata": {
        "id": "pm0uSLVQo9gB",
        "colab_type": "code",
        "colab": {
          "base_uri": "https://localhost:8080/",
          "height": 282
        },
        "outputId": "c02acea7-45c0-42a7-ddc4-801077922ae3"
      },
      "source": [
        "plt.plot(x,y)"
      ],
      "execution_count": 6,
      "outputs": [
        {
          "output_type": "execute_result",
          "data": {
            "text/plain": [
              "[<matplotlib.lines.Line2D at 0x7f3fcbbf4e10>]"
            ]
          },
          "metadata": {
            "tags": []
          },
          "execution_count": 6
        },
        {
          "output_type": "display_data",
          "data": {
            "image/png": "[encoded data removed]",
            "text/plain": [
              "<Figure size 432x288 with 1 Axes>"
            ]
          },
          "metadata": {
            "tags": [],
            "needs_background": "light"
          }
        }
      ]
    },
    {
      "cell_type": "code",
      "metadata": {
        "id": "zq-CZnvWpUYS",
        "colab_type": "code",
        "colab": {
          "base_uri": "https://localhost:8080/",
          "height": 279
        },
        "outputId": "9b799ee8-a976-4485-ab22-c440b30aa185"
      },
      "source": [
        "plt.scatter(x, y, c=t, cmap='jet')\n",
        "plt.colorbar(label='Time (s)')\n",
        "plt.xlabel('Distance (m)')\n",
        "plt.xlabel('Height (m)')\n",
        "plt.show()"
      ],
      "execution_count": 7,
      "outputs": [
        {
          "output_type": "display_data",
          "data": {
            "image/png": "[encoded data removed]",
            "text/plain": [
              "<Figure size 432x288 with 2 Axes>"
            ]
          },
          "metadata": {
            "tags": [],
            "needs_background": "light"
          }
        }
      ]
    },
    {
      "cell_type": "code",
      "metadata": {
        "id": "4b6hhT8cyhr0",
        "colab_type": "code",
        "colab": {}
      },
      "source": [
        ""
      ],
      "execution_count": 0,
      "outputs": []
    }
  ]
}